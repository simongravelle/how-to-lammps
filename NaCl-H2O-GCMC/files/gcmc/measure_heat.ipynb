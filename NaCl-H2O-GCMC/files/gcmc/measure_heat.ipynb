{
 "cells": [
  {
   "cell_type": "markdown",
   "metadata": {},
   "source": [
    "# Treat MD data\n",
    "This script imports the number of molecule and total energy from LAMMPS, and applies the formula:\n",
    "\n",
    "$ Q = R T - \\dfrac{<U N> - <U><N>}{<N^2> - <N>^2} $"
   ]
  },
  {
   "cell_type": "code",
   "execution_count": null,
   "metadata": {},
   "outputs": [],
   "source": [
    "import numpy as np\n",
    "from scipy import constants"
   ]
  },
  {
   "cell_type": "code",
   "execution_count": null,
   "id": "2f38029b",
   "metadata": {},
   "outputs": [],
   "source": [
    "Na = constants.Avogadro # mol-1\n",
    "R = constants.gas_constant # J/mol/K\n",
    "kJmoltoJ = (constants.kilo)/Na\n",
    "T = 293.15 # K"
   ]
  },
  {
   "cell_type": "code",
   "execution_count": null,
   "id": "ea96499d",
   "metadata": {},
   "outputs": [],
   "source": [
    "N = np.loadtxt(\"numbermolecule.dat\", skiprows=2).T[1]\n",
    "U = np.loadtxt(\"totalenergy.dat\", skiprows=2).T[1] # kcal/mol\n",
    "U *= constants.calorie # kJ/mol\n",
    "Q = (R/1000)*T-(np.mean(U*N)-np.mean(U)*np.mean(N))/(np.mean(N**2)-np.mean(N)**2)\n",
    "print(\"Heat\", np.round(Q, 2), \"kJ/mol\")"
   ]
  },
  {
   "cell_type": "markdown",
   "id": "a7af5b15",
   "metadata": {},
   "source": [
    "The result can be compared with the experimental data from : M. C. Foster and G. E. Ewing, <i>Adsorption of water on the NaCl(001)\n",
    "surface. II. an infrared study at ambient temperatures,</i> Journal of Chemical\n",
    "Physics 112, 6817–6826 (2000)"
   ]
  }
 ],
 "metadata": {
  "kernelspec": {
   "display_name": "Python 3.8.10 64-bit",
   "language": "python",
   "name": "python3"
  },
  "language_info": {
   "codemirror_mode": {
    "name": "ipython",
    "version": 3
   },
   "file_extension": ".py",
   "mimetype": "text/x-python",
   "name": "python",
   "nbconvert_exporter": "python",
   "pygments_lexer": "ipython3",
   "version": "3.8.10"
  },
  "vscode": {
   "interpreter": {
    "hash": "916dbcbb3f70747c44a77c7bcd40155683ae19c65e1c03b4aa3499c5328201f1"
   }
  }
 },
 "nbformat": 4,
 "nbformat_minor": 5
}
